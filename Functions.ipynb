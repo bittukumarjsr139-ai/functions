{
  "nbformat": 4,
  "nbformat_minor": 0,
  "metadata": {
    "colab": {
      "provenance": []
    },
    "kernelspec": {
      "name": "python3",
      "display_name": "Python 3"
    },
    "language_info": {
      "name": "python"
    }
  },
  "cells": [
    {
      "cell_type": "markdown",
      "source": [
        "# FUNCTIONS"
      ],
      "metadata": {
        "id": "ieBiEAvyJG2q"
      }
    },
    {
      "cell_type": "markdown",
      "source": [
        "# THEORY QUESTIONS"
      ],
      "metadata": {
        "id": "_l5bGbVwJPqU"
      }
    },
    {
      "cell_type": "markdown",
      "source": [
        "1.  What is the difference between a function and a method in Python ?\n",
        "   - A function in Python is a block of reusable code that performs a specific task and it is defined using the def keyword.\n",
        "   Example\n",
        "   - def greet(name):\n",
        "         return f\"Hello, {name}!\"\n",
        "\n",
        "     Print(greet(\"Sourav\"))\n",
        "     Output : Hello, Sourav!\n",
        "\n",
        "  -  A Method is also a function, but it is associated with an object and it    always takes self as its first parameter and also it can access and modify    the data of the object it belongs to.\n",
        "     Example\n",
        "     my_dog = Dog(\"Buddy\")\n",
        "     Calling the method on the object\n",
        "     print(my_dog.bark())  \n",
        "     Output: Buddy says bhaw!     \n",
        "\n"
      ],
      "metadata": {
        "id": "4OH6SvHBJhP6"
      }
    },
    {
      "cell_type": "markdown",
      "source": [
        "2.  Explain the concept of Function arguements and parameters in Python ?\n",
        "   - Arguements are the actual values you pass to the function when calling it.\n",
        "     They replace the parameters during execution.\n",
        "     Example:\n",
        "     greet(\"Sourav\")   # \"Sourav\" is an argument\n",
        "\n",
        "     Parameters are the placeholders/variables defined inside the parentheses of a function definition.\n",
        "     They define what kind of input the function expects, but they don’t hold actual values until the function is called.\n",
        "     Example:\n",
        "     def greet(name):   # 'name' is a parameter\n",
        "     print(f\"Hello, {name}!\")"
      ],
      "metadata": {
        "id": "e1rxzsT5NsGj"
      }
    },
    {
      "cell_type": "markdown",
      "source": [
        "3.  What is the different ways to define and call a funtion in Python ?\n",
        "    - The different ways to define and call a function in Python are ;\n",
        "    - Simple Funtion\n",
        "    - Functions with Parameters\n",
        "    - Functions with default Parameters\n",
        "    - Functions with multiple parameters\n",
        "    - Nested functions and so on.\n",
        "     \n"
      ],
      "metadata": {
        "id": "uPpKMUr3O_4o"
      }
    },
    {
      "cell_type": "markdown",
      "source": [
        "4.  What is the purpose of the \"Return\" statement in a python function ?\n",
        "  - The purpose of the \"Return\" statement in a python function are ;\n",
        "  - Send a value (or multiple values) back to the caller\n",
        "  - Exit the function immediately\n",
        "  - return gives output from a function."
      ],
      "metadata": {
        "id": "RgyFlXsxNTb6"
      }
    },
    {
      "cell_type": "markdown",
      "source": [
        "5.  What are Iterators in Python and how do they differ from iterables ?\n",
        "   - An iterator is an object that represents a stream of dataand actually    produces values one at a time using next().We can create our own iterator by defining a class with iter () and Next().\n",
        "   An iterable is any Python object that can return its members one at a time.\n",
        "   Examples: list, tuple, set, string, dictionary, etc."
      ],
      "metadata": {
        "id": "ki-ZErAlSCdv"
      }
    },
    {
      "cell_type": "markdown",
      "source": [
        "6.  Explain the concept of generators in Python and how they are defined ?\n",
        "   - A generator is a special type of iterator that is defined using a function with yield instead of return. This makes them memory-efficient when working with large datasets or infinite sequences.\n",
        "   Defining a generators ;\n",
        "   def fibonacci(n):\n",
        "   a, b = 0, 1\n",
        "   for _ in range(n):\n",
        "   yield a   # return one value at a time\n",
        "   a, b = b, a + b\n",
        "   Using generator\n",
        "   for num in fibonacci(6):\n",
        "   print(num)\n",
        "   Output: 0 1 1 2 3 5\n"
      ],
      "metadata": {
        "id": "0gz5Jo8XJfiQ"
      }
    },
    {
      "cell_type": "markdown",
      "source": [
        "7.  What are the advantages of using generators over regular functions ?\n",
        "   -  The advantages of using generators over regular functions are ;\n",
        "    - Memory Efficiency\n",
        "    - on Demand computation\n",
        "    - Better performance on Iteration\n",
        "    - Represent infinite sequence"
      ],
      "metadata": {
        "id": "--3_eq2BVjyz"
      }
    },
    {
      "cell_type": "markdown",
      "source": [
        "8.  What is a lambda function in python and when it is typically used ?\n",
        "   - A lambda function is a small anonymous function in Python.\n",
        "     Defined using the keyword lambda instead of def.They can take any number of arguments but have only one expression.\n",
        "     Lambda functions are typically used when you need a short, simple function for a short time, especially as an argument to another function."
      ],
      "metadata": {
        "id": "7mdkvq4tWgjO"
      }
    },
    {
      "cell_type": "markdown",
      "source": [
        "9.  Explain the purpose and usage of the map(), reduce(), and filter()   functions in Python ?\n",
        "  1. map()\n",
        "     Purpose: Apply a function to every item in an iterable and return a new iterable (map object).\n",
        "     num = 1, 2, 3, 4, 5\n",
        "     Using map to square each number\n",
        "     squares = list(map(lambda x: x**2, numbers))\n",
        "     print(squares)  # Output: [1, 4, 9, 16, 25]\n",
        "  2. filter()\n",
        "     Purpose: Filter items from an iterable based on a condition (boolean function).\n",
        "     numbers = [10, 15, 20, 25, 30]\n",
        "     Using filter to get even numbers\n",
        "     evens = list(filter(lambda x: x % 2 == 0, numbers))\n",
        "     print(evens)  # Output: [10, 20, 30]\n",
        "  3. reduce()\n",
        "     Purpose: Repeatedly apply a function to the elements of an iterable, reducing it to a single value.\n",
        "     numbers = [1, 2, 3, 4, 5]\n",
        "     Using reduce to find the product of all numbers\n",
        "     product = reduce(lambda a, b: a * b, numbers)\n",
        "     print(product)  # Output: 120   "
      ],
      "metadata": {
        "id": "fRBH7Ge5XNIk"
      }
    },
    {
      "cell_type": "markdown",
      "source": [
        "10.  What is the difference between map(), reduce(), and filter() functions in Python ?\n",
        "   - The difference between map(), reduce(), and filter() functions in Python are\n",
        "   Map() ; purpose ; Transform each element of an iterable\n",
        "   function output ; Returns a new iterable (map object)\n",
        "   Example ; Returns a new iterable (filter object)        \n",
        "   reduce () ; purpose ; Combine all elements into a single value\n",
        "   function output ; Returns a single value\n",
        "   Example ; Multiply all numbers in a list\n",
        "   filter () ; purpose ; Select elements based on a condition\n",
        "   function output ; Returns a new iterable (filter object)\n",
        "   Example ; Keep only even numbers"
      ],
      "metadata": {
        "id": "PDsg4gQKZeSm"
      }
    },
    {
      "cell_type": "markdown",
      "source": [
        "# Practical Questions"
      ],
      "metadata": {
        "id": "I_kXt9l9bvvn"
      }
    },
    {
      "cell_type": "markdown",
      "source": [
        "1.  Write a Python function that takes a list of numbers as input and returns the sum of all even numbers in the list.\n",
        "   - def sum_of_evens(numbers):\n",
        "   total = 0\n",
        "   for num in numbers:\n",
        "        if num % 2 == 0:     \n",
        "        check if number is even\n",
        "        total += num\n",
        "   return total\n",
        "   Example usage\n",
        "   nums = [1, 2, 3, 4, 5, 6]\n",
        "   print(\"Sum of even numbers:\", sum_of_evens(nums))\n",
        "    \n",
        "   Output: 12\n",
        "\n",
        "2. Create a Python functions that accepts a string and returns the reverse of that string ?\n",
        "   - A Python functions that accepts a string and returns the reverse of that string. Example ;\n",
        "     def reverse_string(s):\n",
        "     return s[::-1]\n",
        "     Example usage\n",
        "     text = \"Python\"\n",
        "     print(reverse_string(text))\n",
        "\n",
        "     Output: \"nohtyP\"\n",
        "\n",
        "3.  Implement a Python function that takes a list of integers and returns a new list containing the squares of each numbers ?     \n",
        "   - To implement a Python function that returns a list of squares of integers:\n",
        "     def square_list(numbers):\n",
        "     squares = []\n",
        "     or num in numbers:\n",
        "        squares.append(num ** 2)\n",
        "     return squares\n",
        "     Example usage\n",
        "     nums = [1, 2, 3, 4, 5]\n",
        "     print(square_list(nums))\n",
        "\n",
        "     Output: [1, 4, 9, 16, 25]\n",
        "\n",
        "4.  Write a Python function that checks if a given number is prime or not from 1 to 200 ?\n",
        "   - A Python function that checks if a given number is prime or not from 1 to 200 are\n",
        "   def is_prime(n):\n",
        "     if n <= 1:\n",
        "        return False\n",
        "     for i in range(2, int(n**0.5) + 1):  # check divisibility up to sqrt(n)\n",
        "        if n % i == 0:\n",
        "            return False\n",
        "     return True\n",
        "     Example usage: all prime numbers from 1 to 200\n",
        "     primes = [num for num in range(1, 201) if is_prime(num)]\n",
        "     print(primes)\n",
        "\n",
        "     output ;\n",
        "     2 3 5 7 11 13 17 19 23 29 31 37 41 43 47 ...\n",
        "\n",
        "\n",
        "5.  Create an iterator class in python that generates a Fibonacci sequence up to a specified number of terms.\n",
        "   - An iterator class in python that generates a Fibonacci sequence up to a specified number of terms are\n",
        "   class Fibonacci:\n",
        "     def __init__(self, n_terms):\n",
        "        self.n_terms = n_terms  # total terms to generate\n",
        "        self.count = 0          # current term count\n",
        "        self.a, self.b = 0, 1   # first two Fibonacci numbers\n",
        "     def __iter__(self):\n",
        "        return self\n",
        "     def __next__(self):\n",
        "        if self.count >= self.n_terms:\n",
        "            raise StopIteration  # stop when we reach n_terms\n",
        "        if self.count == 0:\n",
        "            self.count += 1\n",
        "            return 0\n",
        "        elif self.count == 1:\n",
        "            self.count += 1\n",
        "            return 1\n",
        "        else:\n",
        "            self.a, self.b = self.b, self.a + self.b\n",
        "            self.count += 1\n",
        "            return self.a\n",
        "        Example usage\n",
        "        fib_sequence = Fibonacci(10)\n",
        "        for num in fib_sequence:\n",
        "        print(num, end=\" \")\n",
        "\n",
        "        output ;\n",
        "        0 1 1 2 3 5 8 13 21 34\n",
        "\n",
        "6.  Write a generator function in python that yields the power of 2 upto a given exponents.\n",
        "   - Generator Functions ;\n",
        "   def powers_of_two(n):\n",
        "     \"\"\"\n",
        "     Yields powers of 2 from 2^0 up to 2^n\n",
        "     \"\"\"\n",
        "     for i in range(n + 1):\n",
        "        yield 2 ** i\n",
        "     Example usage\n",
        "     for value in powers_of_two(5):\n",
        "     print(value, end=\" \")\n",
        "\n",
        "     output ; 1 2 4 8 16 32\n",
        "\n",
        "7.  Implement a generator function that reads a file line by line and yields each line as a string.\n",
        "   - Generator function in Python that reads a file line by line and yields each line :    \n",
        "     def read_file_line_by_line(file_path):\n",
        "     \"\"\"\n",
        "     Generator that yields each line of a file one by one.\n",
        "     \"\"\"\n",
        "     with open(file_path, \"r\") as file:   \n",
        "      for line in file:\n",
        "      yield line.rstrip(\"\\n\")      \n",
        "      Example usage\n",
        "      file_path = \"example.txt\"  # replace with your file path\n",
        "      for line in read_file_line_by_line(file_path):\n",
        "      print(line)\n",
        "\n",
        "8.  Use a lambda function in python to sort a list of tuples based on the second elements of each tuple.\n",
        "   - We can use a lambda function as the key in Python sorted() function to sort a list of tuples by the second element of each tuple  \n",
        "   List of tuples\n",
        "   data = [(1, 5), (3, 2), (4, 9), (2, 1)]\n",
        "   Sort based on the second element of each tuple\n",
        "   sorted_data = sorted(data, key=lambda x: x[1])\n",
        "   print(sorted_data).\n",
        "\n",
        "   output ; [(2, 1), (3, 2), (1, 5), (4, 9)]\n",
        "\n",
        "9.  Write a python program that uses map() to convert a list of temperatures from celcius to fahrenheit.\n",
        "   - A python program that uses map() to convert a list of temperatures from celcius to fahrenheit are\n",
        "     # Function to convert Celsius to Fahrenheit\n",
        "   def c_to_f(celsius):\n",
        "      return (celsius * 9/5) + 32\n",
        "      List of temperatures in Celsius\n",
        "     celsius_temps = [0, 10, 20, 30, 40]\n",
        "\n",
        "     Using map() to convert all temperatures to Fahrenheit\n",
        "     fahrenheit_temps = list(map(c_to_f, celsius_temps))\n",
        "\n",
        "     print(\"Celsius:\", celsius_temps)\n",
        "     print(\"Fahrenheit:\", fahrenheit_temps)\n",
        "\n",
        "     Output ;\n",
        "     Celsius: [0, 10, 20, 30, 40]\n",
        "     Fahrenheit: [32.0, 50.0, 68.0, 86.0, 104.0]\n",
        "\n",
        "10.  Create a Python program that uses filter() to remove all the vowels from a given string.\n",
        "   - A Python program that uses filter() to remove all the vowels from a given string are\n",
        "     Function to check if a character is not a vowel\n",
        "     def is_not_vowel(char):\n",
        "     return char.lower() not in 'aeiou'\n",
        "\n",
        "     # Input string\n",
        "     text = \"Hello, Python World!\"\n",
        "     # Use filter() to remove vowels\n",
        "     result = ''.join(filter(is_not_vowel, text))\n",
        "\n",
        "     print(\"Original string:\", text)\n",
        "     print(\"Without vowels:\", result)\n",
        "\n",
        "     output ;\n",
        "     Original string: Hello, Python World!\n",
        "     Without vowels: Hll, Pythn Wrld!\n",
        "\n",
        "   \n",
        "\n",
        "  \n",
        "\n",
        "    \n",
        "\n"
      ],
      "metadata": {
        "id": "PPUtLC2Eb-Oi"
      }
    }
  ]
}